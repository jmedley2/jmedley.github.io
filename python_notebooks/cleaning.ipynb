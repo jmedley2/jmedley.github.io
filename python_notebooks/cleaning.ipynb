{
 "cells": [
  {
   "cell_type": "code",
   "execution_count": 2,
   "metadata": {},
   "outputs": [],
   "source": [
    "import altair as alt\n",
    "import numpy as np\n",
    "import pandas as pd\n",
    "import matplotlib.pyplot as plt"
   ]
  },
  {
   "cell_type": "code",
   "execution_count": 3,
   "metadata": {},
   "outputs": [],
   "source": [
    "buildings = pd.read_csv(\"https://raw.githubusercontent.com/UIUC-iSchool-DataViz/is445_data/main/building_inventory.csv\")"
   ]
  },
  {
   "cell_type": "code",
   "execution_count": 4,
   "metadata": {},
   "outputs": [
    {
     "data": {
      "text/plain": [
       "array(['Department of Natural Resources', 'Department of Corrections',\n",
       "       'Department of Human Services', 'Department of Transportation',\n",
       "       'Department of State Police', 'Department of Military Affairs',\n",
       "       'Department of Agriculture', 'Governors State University',\n",
       "       'Department of Central Management Services',\n",
       "       'Illinois State University', 'Historic Preservation Agency',\n",
       "       'Department of Juvenile Justice', 'Southern Illinois University',\n",
       "       'Illinois Medical District Commission', 'University of Illinois',\n",
       "       \"Department of Veterans' Affairs\", 'Chicago State University',\n",
       "       'Northern Illinois University', 'Office of the Secretary of State',\n",
       "       'Illinois Emergency Management Agency',\n",
       "       'Western Illinois University', 'Eastern Illinois University',\n",
       "       'Northeastern Illinois University',\n",
       "       'Illinois Community College Board',\n",
       "       'Illinois Board of Higher Education',\n",
       "       'IL State Board of Education', 'Department of Revenue',\n",
       "       \"Governor's Office\", 'Office of the Attorney General',\n",
       "       'Appellate Court / Fourth District', 'Department of Public Health',\n",
       "       'Illinois Courts', 'Appellate Court / Third District',\n",
       "       'Appellate Court / Fifth District',\n",
       "       'Appellate Court / Second District'], dtype=object)"
      ]
     },
     "execution_count": 4,
     "metadata": {},
     "output_type": "execute_result"
    }
   ],
   "source": [
    "buildings['Agency Name'].unique()"
   ]
  },
  {
   "cell_type": "code",
   "execution_count": 5,
   "metadata": {},
   "outputs": [
    {
     "data": {
      "text/plain": [
       "array(['Department of Natural Resources', 'Department of Corrections',\n",
       "       'Department of Human Services', 'Department of Transportation',\n",
       "       'Department of State Police', 'Department of Military Affairs',\n",
       "       'Department of Agriculture', 'Universities',\n",
       "       'Department of Central Management Services',\n",
       "       'Historic Preservation Agency', 'Department of Juvenile Justice',\n",
       "       'Illinois Medical District Commission',\n",
       "       \"Department of Veterans' Affairs\",\n",
       "       'Office of the Secretary of State',\n",
       "       'Illinois Emergency Management Agency',\n",
       "       'Illinois Community College Board',\n",
       "       'Illinois Board of Higher Education',\n",
       "       'IL State Board of Education', 'Department of Revenue',\n",
       "       \"Governor's Office\", 'Office of the Attorney General',\n",
       "       'Appellate Courts', 'Department of Public Health',\n",
       "       'Illinois Courts'], dtype=object)"
      ]
     },
     "execution_count": 5,
     "metadata": {},
     "output_type": "execute_result"
    }
   ],
   "source": [
    "condition = buildings['Agency Name'].str.contains('Appellate Court', case=False)\n",
    "buildings.loc[condition, 'Agency Name'] = 'Appellate Courts'\n",
    "\n",
    "condition = buildings['Agency Name'].str.contains('University', case=False)\n",
    "buildings.loc[condition, 'Agency Name'] = 'Universities'\n",
    "\n",
    "buildings['Agency Name'].unique()"
   ]
  },
  {
   "cell_type": "code",
   "execution_count": 6,
   "metadata": {},
   "outputs": [],
   "source": [
    "buildings.to_csv('Buildings.csv')"
   ]
  },
  {
   "cell_type": "code",
   "execution_count": 19,
   "metadata": {},
   "outputs": [],
   "source": [
    "chart_1 = alt.Chart.from_dict(\n",
    "{\n",
    "  \"$schema\": \"https://vega.github.io/schema/vega-lite/v5.json\",\n",
    "  \"data\":{\"url\": },\n",
    "  \"title\": \"Number of Buildings Acquired by Year in Illinois\",\n",
    "  \"mark\": {\"type\": \"area\", \"tooltip\": True},\n",
    "  \"width\": 900,\n",
    "  \"encoding\": {\n",
    "    \"x\":{\n",
    "      \"timeUnit\": \"year\",\n",
    "      \"field\": \"Year Acquired\",\n",
    "      \"type\": \"temporal\",\n",
    "      \"axis\": {\"title\": \"Year\"}\n",
    "        },\n",
    "    \"y\":{\n",
    "  \t  \"aggregate\": \"count\",\n",
    "      \"axis\": {\"title\": \"Buildings Acquired\"}\n",
    "    },\n",
    "    \"color\": {\"field\":\"Agency Name\", \"scale\":{\"scheme\": \"category10\"}}\n",
    "  }\n",
    "}\n",
    ")"
   ]
  },
  {
   "cell_type": "code",
   "execution_count": 20,
   "metadata": {},
   "outputs": [
    {
     "data": {
      "text/html": [
       "\n",
       "<style>\n",
       "  #altair-viz-9bfea7e93a3f4c4082c27c6b8dc57ffc.vega-embed {\n",
       "    width: 100%;\n",
       "    display: flex;\n",
       "  }\n",
       "\n",
       "  #altair-viz-9bfea7e93a3f4c4082c27c6b8dc57ffc.vega-embed details,\n",
       "  #altair-viz-9bfea7e93a3f4c4082c27c6b8dc57ffc.vega-embed details summary {\n",
       "    position: relative;\n",
       "  }\n",
       "</style>\n",
       "<div id=\"altair-viz-9bfea7e93a3f4c4082c27c6b8dc57ffc\"></div>\n",
       "<script type=\"text/javascript\">\n",
       "  var VEGA_DEBUG = (typeof VEGA_DEBUG == \"undefined\") ? {} : VEGA_DEBUG;\n",
       "  (function(spec, embedOpt){\n",
       "    let outputDiv = document.currentScript.previousElementSibling;\n",
       "    if (outputDiv.id !== \"altair-viz-9bfea7e93a3f4c4082c27c6b8dc57ffc\") {\n",
       "      outputDiv = document.getElementById(\"altair-viz-9bfea7e93a3f4c4082c27c6b8dc57ffc\");\n",
       "    }\n",
       "    const paths = {\n",
       "      \"vega\": \"https://cdn.jsdelivr.net/npm/vega@5?noext\",\n",
       "      \"vega-lib\": \"https://cdn.jsdelivr.net/npm/vega-lib?noext\",\n",
       "      \"vega-lite\": \"https://cdn.jsdelivr.net/npm/vega-lite@5.15.1?noext\",\n",
       "      \"vega-embed\": \"https://cdn.jsdelivr.net/npm/vega-embed@6?noext\",\n",
       "    };\n",
       "\n",
       "    function maybeLoadScript(lib, version) {\n",
       "      var key = `${lib.replace(\"-\", \"\")}_version`;\n",
       "      return (VEGA_DEBUG[key] == version) ?\n",
       "        Promise.resolve(paths[lib]) :\n",
       "        new Promise(function(resolve, reject) {\n",
       "          var s = document.createElement('script');\n",
       "          document.getElementsByTagName(\"head\")[0].appendChild(s);\n",
       "          s.async = true;\n",
       "          s.onload = () => {\n",
       "            VEGA_DEBUG[key] = version;\n",
       "            return resolve(paths[lib]);\n",
       "          };\n",
       "          s.onerror = () => reject(`Error loading script: ${paths[lib]}`);\n",
       "          s.src = paths[lib];\n",
       "        });\n",
       "    }\n",
       "\n",
       "    function showError(err) {\n",
       "      outputDiv.innerHTML = `<div class=\"error\" style=\"color:red;\">${err}</div>`;\n",
       "      throw err;\n",
       "    }\n",
       "\n",
       "    function displayChart(vegaEmbed) {\n",
       "      vegaEmbed(outputDiv, spec, embedOpt)\n",
       "        .catch(err => showError(`Javascript Error: ${err.message}<br>This usually means there's a typo in your chart specification. See the javascript console for the full traceback.`));\n",
       "    }\n",
       "\n",
       "    if(typeof define === \"function\" && define.amd) {\n",
       "      requirejs.config({paths});\n",
       "      require([\"vega-embed\"], displayChart, err => showError(`Error loading script: ${err.message}`));\n",
       "    } else {\n",
       "      maybeLoadScript(\"vega\", \"5\")\n",
       "        .then(() => maybeLoadScript(\"vega-lite\", \"5.15.1\"))\n",
       "        .then(() => maybeLoadScript(\"vega-embed\", \"6\"))\n",
       "        .catch(showError)\n",
       "        .then(() => displayChart(vegaEmbed));\n",
       "    }\n",
       "  })({\"config\": {\"view\": {\"continuousWidth\": 300, \"continuousHeight\": 300}}, \"data\": {\"url\": \"https://raw.githubusercontent.com/UIUC-iSchool-DataViz/is445_data/main/building_inventory.csv\"}, \"mark\": {\"type\": \"area\", \"tooltip\": true}, \"encoding\": {\"color\": {\"field\": \"Agency Name\", \"scale\": {\"scheme\": \"category10\"}}, \"x\": {\"axis\": {\"title\": \"Year\"}, \"field\": \"Year Acquired\", \"timeUnit\": \"year\", \"type\": \"temporal\"}, \"y\": {\"aggregate\": \"count\", \"axis\": {\"title\": \"Buildings Acquired\"}}}, \"title\": \"Number of Buildings Acquired by Year in Illinois\", \"width\": 900, \"$schema\": \"https://vega.github.io/schema/vega-lite/v5.json\"}, {\"mode\": \"vega-lite\"});\n",
       "</script>"
      ],
      "text/plain": [
       "alt.Chart(...)"
      ]
     },
     "execution_count": 20,
     "metadata": {},
     "output_type": "execute_result"
    }
   ],
   "source": [
    "chart_1"
   ]
  },
  {
   "cell_type": "code",
   "execution_count": 21,
   "metadata": {},
   "outputs": [],
   "source": [
    "myJekyllDir = '/Users/jmedl/jmedley.github.io/assets/json/'"
   ]
  },
  {
   "cell_type": "code",
   "execution_count": 23,
   "metadata": {},
   "outputs": [],
   "source": [
    "chart_1.properties(width='container').save(myJekyllDir+'chart_1.json')"
   ]
  },
  {
   "cell_type": "code",
   "execution_count": null,
   "metadata": {},
   "outputs": [],
   "source": []
  }
 ],
 "metadata": {
  "kernelspec": {
   "display_name": "Python 3",
   "language": "python",
   "name": "python3"
  },
  "language_info": {
   "codemirror_mode": {
    "name": "ipython",
    "version": 3
   },
   "file_extension": ".py",
   "mimetype": "text/x-python",
   "name": "python",
   "nbconvert_exporter": "python",
   "pygments_lexer": "ipython3",
   "version": "3.11.5"
  },
  "orig_nbformat": 4
 },
 "nbformat": 4,
 "nbformat_minor": 2
}
